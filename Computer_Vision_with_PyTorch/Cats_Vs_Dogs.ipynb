{
 "cells": [
  {
   "cell_type": "code",
   "execution_count": 14,
   "metadata": {},
   "outputs": [],
   "source": [
    "import torch\n",
    "from torch import nn\n",
    "from torchvision import transforms, models, datasets\n",
    "from PIL import Image\n",
    "import numpy as np\n",
    "from glob import glob\n",
    "import matplotlib.pyplot as plt\n",
    "from torch.utils.data import Dataset, DataLoader"
   ]
  },
  {
   "cell_type": "code",
   "execution_count": 40,
   "metadata": {},
   "outputs": [],
   "source": [
    "device = \"cuda:0\" if torch.cuda.is_available() else \"cpu\""
   ]
  },
  {
   "cell_type": "code",
   "execution_count": 46,
   "metadata": {},
   "outputs": [],
   "source": [
    "training_set_dir = \"Computer_Vision_with_PyTorch\\Cat_and_dog\\\\training_set\\\\training_set\"\n",
    "test_set_dir = \"Computer_Vision_with_PyTorch\\\\Cat_and_dog\\\\test_set\\\\test_set\""
   ]
  },
  {
   "cell_type": "code",
   "execution_count": 38,
   "metadata": {},
   "outputs": [],
   "source": [
    "import random\n",
    "import cv2\n",
    "import os"
   ]
  },
  {
   "cell_type": "code",
   "execution_count": 53,
   "metadata": {},
   "outputs": [
    {
     "data": {
      "text/plain": [
       "[]"
      ]
     },
     "execution_count": 53,
     "metadata": {},
     "output_type": "execute_result"
    }
   ],
   "source": [
    "cats = glob(training_set_dir + \"\\\\cats\\\\*.*.jpg\")\n",
    "cats"
   ]
  },
  {
   "cell_type": "code",
   "execution_count": 41,
   "metadata": {},
   "outputs": [],
   "source": [
    "class Cat_Dog(Dataset):\n",
    "    def __init__(self,\n",
    "                 folder: str):\n",
    "        cats = glob(pathname=folder + \"/cats/*.jpg\")\n",
    "        dogs = glob(pathname=folder + \"/dogs/*.jpg\")\n",
    "        self.fpaths = cats + dogs\n",
    "        random.seed(42); random.shuffle(x=self.fpaths)\n",
    "        self.targets = [fpath.split('/')[-1].startswith(\"dog\") for fpath in self.fpaths] # dog = 1, cat = 0\n",
    "        \n",
    "    def __len__(self): return len(self.fpaths)\n",
    "    def __getitem__(self, index):\n",
    "        f = self.fpaths[index]\n",
    "        target = self.targets[index]\n",
    "        im = cv2.imread(f)[:, :, ::-1]\n",
    "        im = cv2.resize(src=im, dsize=(224, 224))\n",
    "        return torch.tensor(im/225).permute(2, 0, 1).to(device=device).float(), torch.tensor([target]).float().to(device=device)"
   ]
  },
  {
   "cell_type": "code",
   "execution_count": null,
   "metadata": {},
   "outputs": [],
   "source": []
  }
 ],
 "metadata": {
  "kernelspec": {
   "display_name": "Python 3",
   "language": "python",
   "name": "python3"
  },
  "language_info": {
   "codemirror_mode": {
    "name": "ipython",
    "version": 3
   },
   "file_extension": ".py",
   "mimetype": "text/x-python",
   "name": "python",
   "nbconvert_exporter": "python",
   "pygments_lexer": "ipython3",
   "version": "3.10.9"
  }
 },
 "nbformat": 4,
 "nbformat_minor": 2
}
