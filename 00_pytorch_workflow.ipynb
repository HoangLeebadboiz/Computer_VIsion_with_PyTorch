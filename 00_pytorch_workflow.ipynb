{
 "cells": [
  {
   "cell_type": "markdown",
   "metadata": {},
   "source": [
    "# Pytorch Workflow\n",
    "\n",
    "Let's explore an example end-to-end workflow"
   ]
  },
  {
   "cell_type": "code",
   "execution_count": 1,
   "metadata": {},
   "outputs": [
    {
     "data": {
      "text/plain": [
       "{1: 'data (prepare and load)',\n",
       " 2: 'build model',\n",
       " 3: 'fitting the model to data (training)',\n",
       " 4: 'making predictions and evaluating the model',\n",
       " 5: 'saving and loading a model',\n",
       " 6: 'putting it all together'}"
      ]
     },
     "execution_count": 1,
     "metadata": {},
     "output_type": "execute_result"
    }
   ],
   "source": [
    "what_were_covering = {1: \"data (prepare and load)\",\n",
    "                      2: \"build model\",\n",
    "                      3: \"fitting the model to data (training)\",\n",
    "                      4: \"making predictions and evaluating the model\",\n",
    "                      5: \"saving and loading a model\",\n",
    "                      6: \"putting it all together\"}\n",
    "\n",
    "what_were_covering"
   ]
  },
  {
   "cell_type": "code",
   "execution_count": 2,
   "metadata": {},
   "outputs": [
    {
     "data": {
      "text/plain": [
       "'2.0.1+cpu'"
      ]
     },
     "execution_count": 2,
     "metadata": {},
     "output_type": "execute_result"
    }
   ],
   "source": [
    "import torch\n",
    "from torch import nn # nn contains all of PyTorch's building blocks for neural networks\n",
    "import matplotlib.pyplot as plt\n",
    "\n",
    "# Check PyTorch version\n",
    "torch.__version__"
   ]
  },
  {
   "cell_type": "markdown",
   "metadata": {},
   "source": [
    "## 1. Data (preparing and loading)\n",
    "\n",
    "Data can be almost anything ... in machine learning.\n",
    "* Exel spreadsheet\n",
    "* Images of any kind\n",
    "* Videos (YouTube has lots of data...)\n",
    "* Audio like song or podcasts\n",
    "* DNA\n",
    "* Text\n",
    "\n",
    "Machine learning is a game of two parts:\n",
    "1. Get data into numerical rrepresentation.\n",
    "2. Build a model to learn patterns in that numerical representations.\n",
    "\n",
    "To showcase this, let's create some *known* data using the linear regression formula.\n",
    "We'll use a linear regression formula to make straingt line with *known* **parameters**."
   ]
  },
  {
   "cell_type": "code",
   "execution_count": 3,
   "metadata": {},
   "outputs": [
    {
     "data": {
      "text/plain": [
       "(tensor([[0.0000],\n",
       "         [0.0200],\n",
       "         [0.0400],\n",
       "         [0.0600],\n",
       "         [0.0800],\n",
       "         [0.1000],\n",
       "         [0.1200],\n",
       "         [0.1400],\n",
       "         [0.1600],\n",
       "         [0.1800]]),\n",
       " tensor([[0.3000],\n",
       "         [0.3140],\n",
       "         [0.3280],\n",
       "         [0.3420],\n",
       "         [0.3560],\n",
       "         [0.3700],\n",
       "         [0.3840],\n",
       "         [0.3980],\n",
       "         [0.4120],\n",
       "         [0.4260]]))"
      ]
     },
     "execution_count": 3,
     "metadata": {},
     "output_type": "execute_result"
    }
   ],
   "source": [
    "# Create *known* parameters\n",
    "weight = 0.7\n",
    "bias = 0.3\n",
    "\n",
    "# Create\n",
    "start = 0\n",
    "end = 1\n",
    "step = 0.02\n",
    "X = torch.arange(start, end, step).unsqueeze(dim= 1)\n",
    "y= weight * X + bias\n",
    "\n",
    "X[:10], y[:10]"
   ]
  },
  {
   "cell_type": "code",
   "execution_count": 4,
   "metadata": {},
   "outputs": [
    {
     "data": {
      "text/plain": [
       "(50, 50)"
      ]
     },
     "execution_count": 4,
     "metadata": {},
     "output_type": "execute_result"
    }
   ],
   "source": [
    "len(X), len(y)"
   ]
  },
  {
   "cell_type": "markdown",
   "metadata": {},
   "source": [
    "### Splitting data into training and test sets (one of the most important concepts in machine learning in general)\n",
    "\n",
    "Let's create a training and test set with our data."
   ]
  },
  {
   "cell_type": "code",
   "execution_count": 5,
   "metadata": {},
   "outputs": [
    {
     "data": {
      "text/plain": [
       "(40, 40, 10, 10)"
      ]
     },
     "execution_count": 5,
     "metadata": {},
     "output_type": "execute_result"
    }
   ],
   "source": [
    "# Create a train/test split\n",
    "train_split = int(0.8 * len(X))\n",
    "X_train, y_train = X[:train_split], y[:train_split]\n",
    "X_test, y_test = X[train_split:], y[train_split:]\n",
    "\n",
    "len(X_train), len(y_train), len(X_test), len(y_test)"
   ]
  },
  {
   "cell_type": "markdown",
   "metadata": {},
   "source": [
    "How might we better visualize our data?\n",
    "\n",
    "This is where the data explorer's motto comes in\n",
    "\n",
    "\"Visualize, visualize, visualize!\""
   ]
  },
  {
   "cell_type": "code",
   "execution_count": 6,
   "metadata": {},
   "outputs": [],
   "source": [
    "def plot_predictions(train_data = X_train,\n",
    "                     train_labels = y_train,\n",
    "                     test_data = X_test,\n",
    "                     test_labels = y_test,\n",
    "                     predictions = None):\n",
    "    \"\"\"\n",
    "    Plot training data, test data and compares predictions\n",
    "    \"\"\"\n",
    "    plt.figure(figsize= (10, 7))\n",
    "    \n",
    "    # Plot training data in blue\n",
    "    plt.scatter(train_data, train_labels, c= 'b', s= 4, label= \"Training data\")\n",
    "    \n",
    "    # Plot test data in green\n",
    "    plt.scatter(test_data, test_labels, c= 'g', s= 4, label= \"Testing data\")\n",
    "    \n",
    "    # Are there predictions?\n",
    "    if predictions is not None:\n",
    "        # Plot the predictions if they exist\n",
    "        plt.scatter(test_data, predictions, c= 'r', s= 4, label= \"Predictions\")\n",
    "        \n",
    "    # Show the legend\n",
    "    plt.legend(prop= {\"size\" : 14})"
   ]
  },
  {
   "cell_type": "code",
   "execution_count": 7,
   "metadata": {},
   "outputs": [
    {
     "data": {
      "image/png": "[encoded data removed]",
      "text/plain": [
       "<Figure size 1000x700 with 1 Axes>"
      ]
     },
     "metadata": {},
     "output_type": "display_data"
    }
   ],
   "source": [
    "plot_predictions()"
   ]
  },
  {
   "cell_type": "markdown",
   "metadata": {},
   "source": [
    "## 2. Buld model\n",
    "\n",
    "Our first PyTorch model\n",
    "\n",
    "This is very exciting ... Let's do it!\n",
    "\n",
    "What our model does:\n",
    "* Start with random values (weight & bias)\n",
    "* Look ar training data and adjust the random values to better represent (or get closer to) the ideal values (the weight & bias values we used to create the data)\n",
    "\n",
    "How does it do so?\n",
    "1. Gradient descent\n",
    "2. Backpropagation"
   ]
  },
  {
   "cell_type": "code",
   "execution_count": 8,
   "metadata": {},
   "outputs": [],
   "source": [
    "# Create linear regression model class\n",
    "class LinearRegressionModel(nn.Module): # almost everything in PyTorch inherhits from nn.Module\n",
    "    def __init__(self):\n",
    "        super().__init__()\n",
    "        self.weight = nn.Parameter(torch.randn(1,\n",
    "                                               requires_grad= True,\n",
    "                                               dtype= torch.float))\n",
    "        \n",
    "        self.bias = nn.Parameter(torch.randn(1,\n",
    "                                             requires_grad= True,\n",
    "                                             dtype= float))\n",
    "        \n",
    "    # Forward method to define the computation in the model\n",
    "    def forward(self, x: torch.Tensor) -> torch.Tensor: # \"x\" is the input data\n",
    "        return self.weight * x + self.bias # this is the linear regression formula"
   ]
  },
  {
   "cell_type": "markdown",
   "metadata": {},
   "source": [
    "### PyTorch model building essentials\n",
    "\n",
    "* torch.nn - contains all of buildings for computational graphs (a neural network can be considered a computational graph)\n",
    "* torch.nn.Parameter - what parameters should our model try and learning, often a PyTorch layer from torch.nn will det these for us\n",
    "* torch.nn.Module - The base class for all neural network modules, if you subclass it, you should overide forward()\n",
    "* torch.optim - this where the optimizers in PyTorch live, they will help with gradient descent\n",
    "* def forward() - All nn.Module subclasses require you to overwrite forward(), this method defines what happens in the forward computation"
   ]
  },
  {
   "cell_type": "markdown",
   "metadata": {},
   "source": [
    "### Checking the contents of our PyTorch model\n",
    "\n",
    "Now we've created model, let's see what's inside ...\n",
    "\n",
    "So we can check our parameters or what's inside our model using `.parameters()`"
   ]
  },
  {
   "cell_type": "code",
   "execution_count": 9,
   "metadata": {},
   "outputs": [
    {
     "data": {
      "text/plain": [
       "[Parameter containing:\n",
       " tensor([0.3367], requires_grad=True),\n",
       " Parameter containing:\n",
       " tensor([0.1288], dtype=torch.float64, requires_grad=True)]"
      ]
     },
     "execution_count": 9,
     "metadata": {},
     "output_type": "execute_result"
    }
   ],
   "source": [
    "# Create a random seed\n",
    "torch.manual_seed(42)\n",
    "\n",
    "# Create an instance of the model (this is a subclass of nn.Module)\n",
    "model_0 = LinearRegressionModel()\n",
    "\n",
    "# Check out the parameters\n",
    "list(model_0.parameters())"
   ]
  },
  {
   "cell_type": "code",
   "execution_count": 10,
   "metadata": {},
   "outputs": [
    {
     "data": {
      "text/plain": [
       "OrderedDict([('weight', tensor([0.3367])),\n",
       "             ('bias', tensor([0.1288], dtype=torch.float64))])"
      ]
     },
     "execution_count": 10,
     "metadata": {},
     "output_type": "execute_result"
    }
   ],
   "source": [
    "# List named parameters\n",
    "model_0.state_dict()"
   ]
  },
  {
   "cell_type": "markdown",
   "metadata": {},
   "source": [
    "### Making prediction using `torch.inference_mode()`\n",
    "\n",
    "To check our model's predictve power, let's see how well it predicts `y_test` based on `X_test`.\n",
    "\n",
    "When we pass data through our model, it's going to run it through the `forward()` method."
   ]
  },
  {
   "cell_type": "code",
   "execution_count": 11,
   "metadata": {},
   "outputs": [
    {
     "data": {
      "text/plain": [
       "tensor([[0.3982],\n",
       "        [0.4049],\n",
       "        [0.4116],\n",
       "        [0.4184],\n",
       "        [0.4251],\n",
       "        [0.4318],\n",
       "        [0.4386],\n",
       "        [0.4453],\n",
       "        [0.4520],\n",
       "        [0.4588]], dtype=torch.float64, grad_fn=<AddBackward0>)"
      ]
     },
     "execution_count": 11,
     "metadata": {},
     "output_type": "execute_result"
    }
   ],
   "source": [
    "y_preds = model_0(X_test)\n",
    "y_preds"
   ]
  },
  {
   "cell_type": "code",
   "execution_count": 12,
   "metadata": {},
   "outputs": [
    {
     "data": {
      "text/plain": [
       "tensor([[0.3982],\n",
       "        [0.4049],\n",
       "        [0.4116],\n",
       "        [0.4184],\n",
       "        [0.4251],\n",
       "        [0.4318],\n",
       "        [0.4386],\n",
       "        [0.4453],\n",
       "        [0.4520],\n",
       "        [0.4588]], dtype=torch.float64)"
      ]
     },
     "execution_count": 12,
     "metadata": {},
     "output_type": "execute_result"
    }
   ],
   "source": [
    "# Make predictions with model\n",
    "with torch.inference_mode():\n",
    "    y_preds = model_0(X_test)\n",
    "\n",
    "\"\"\"with torch.no_grad():\n",
    "    y_preds = model_0(X_test)\"\"\"\n",
    "\n",
    "y_preds"
   ]
  },
  {
   "cell_type": "markdown",
   "metadata": {},
   "source": [
    "## 3. Train model\n",
    "\n",
    "The whole idea of training is for a model to move from some *unknown* parameters (these maybe random) to some *known* parameters.\n",
    "\n",
    "Or in other words from a poor representation of the data to a better representation of the data.\n",
    "\n",
    "One way to measure how poor or how wrong your models predictions are is to use a loss function.\n",
    "\n",
    "* Note: Loss function may also be called cost function or criterion in different areas.\n",
    "  \n",
    "Things we need to train:\n",
    "* Loss function\n",
    "* Optimizer\n",
    "\n",
    "And specifically for PyTorch, we need:\n",
    "* Training loop\n",
    "* Testing loop"
   ]
  },
  {
   "cell_type": "code",
   "execution_count": 13,
   "metadata": {},
   "outputs": [
    {
     "data": {
      "text/plain": [
       "[Parameter containing:\n",
       " tensor([0.3367], requires_grad=True),\n",
       " Parameter containing:\n",
       " tensor([0.1288], dtype=torch.float64, requires_grad=True)]"
      ]
     },
     "execution_count": 13,
     "metadata": {},
     "output_type": "execute_result"
    }
   ],
   "source": [
    "list(model_0.parameters())"
   ]
  },
  {
   "cell_type": "code",
   "execution_count": 14,
   "metadata": {},
   "outputs": [
    {
     "data": {
      "text/plain": [
       "OrderedDict([('weight', tensor([0.3367])),\n",
       "             ('bias', tensor([0.1288], dtype=torch.float64))])"
      ]
     },
     "execution_count": 14,
     "metadata": {},
     "output_type": "execute_result"
    }
   ],
   "source": [
    "model_0.state_dict()"
   ]
  },
  {
   "cell_type": "code",
   "execution_count": 15,
   "metadata": {},
   "outputs": [],
   "source": [
    "# Set up a loss function\n",
    "loss_fn = nn.L1Loss()\n",
    "\n",
    "# Set up an optimizer\n",
    "optimizer = torch.optim.SGD(params= model_0.parameters(),\n",
    "                            lr= 0.01) # learning rate"
   ]
  },
  {
   "cell_type": "code",
   "execution_count": 16,
   "metadata": {},
   "outputs": [
    {
     "data": {
      "text/plain": [
       "L1Loss()"
      ]
     },
     "execution_count": 16,
     "metadata": {},
     "output_type": "execute_result"
    }
   ],
   "source": [
    "loss_fn"
   ]
  },
  {
   "cell_type": "markdown",
   "metadata": {},
   "source": [
    "### Building a training loop (and a testing loop) in PyTorch\n",
    "\n",
    "A couple of things we need in a training loop:\n",
    "0. Loop through the data\n",
    "1. Forward pass (this involves data moving through our model's `forward` functions) - also called forward propagation\n",
    "2. Calculate the loss\n",
    "3. Optimizer zero grad\n",
    "4. Loss backward\n",
    "5. Optimizer step"
   ]
  },
  {
   "cell_type": "code",
   "execution_count": 17,
   "metadata": {},
   "outputs": [
    {
     "data": {
      "text/plain": [
       "[Parameter containing:\n",
       " tensor([0.3367], requires_grad=True),\n",
       " Parameter containing:\n",
       " tensor([0.1288], dtype=torch.float64, requires_grad=True)]"
      ]
     },
     "execution_count": 17,
     "metadata": {},
     "output_type": "execute_result"
    }
   ],
   "source": [
    "list(model_0.parameters())"
   ]
  },
  {
   "cell_type": "code",
   "execution_count": 18,
   "metadata": {},
   "outputs": [
    {
     "name": "stdout",
     "output_type": "stream",
     "text": [
      "Epoch: 0---------------Loss: 0.3128813517678373----------------Test loss: 0.4810651795382455\n",
      "Epoch: 10---------------Loss: 0.19767138632506426----------------Test loss: 0.346355255078788\n",
      "Epoch: 20---------------Loss: 0.08908726094682914----------------Test loss: 0.21729659528684148\n",
      "Epoch: 30---------------Loss: 0.05314853437903411----------------Test loss: 0.14464020247411263\n",
      "Epoch: 40---------------Loss: 0.045437965798191725----------------Test loss: 0.11360953504991064\n",
      "Epoch: 50---------------Loss: 0.04167863324115598----------------Test loss: 0.09919951553296583\n",
      "Epoch: 60---------------Loss: 0.03818932177440422----------------Test loss: 0.08886642379712592\n",
      "Epoch: 70---------------Loss: 0.034760872570398914----------------Test loss: 0.08059396738957894\n",
      "Epoch: 80---------------Loss: 0.031323813460567805----------------Test loss: 0.07232151694249642\n",
      "Epoch: 90---------------Loss: 0.027887361238497978----------------Test loss: 0.06473595685910709\n",
      "Epoch: 100---------------Loss: 0.024458912034492648----------------Test loss: 0.056463512372489165\n",
      "Epoch: 110---------------Loss: 0.021020179208354882----------------Test loss: 0.048191052984709826\n",
      "Epoch: 120---------------Loss: 0.01758540265836911----------------Test loss: 0.040605486940856125\n",
      "Epoch: 130---------------Loss: 0.014155357881994759----------------Test loss: 0.0323330275530769\n",
      "Epoch: 140---------------Loss: 0.010716548774564513----------------Test loss: 0.02406058902692334\n",
      "Epoch: 150---------------Loss: 0.007283442308727353----------------Test loss: 0.016475022983069642\n",
      "Epoch: 160---------------Loss: 0.0038517246542366657----------------Test loss: 0.008202572535987019\n",
      "Epoch: 170---------------Loss: 0.008931417997662885----------------Test loss: 0.0050241684431983295\n",
      "Epoch: 180---------------Loss: 0.008931417997662885----------------Test loss: 0.0050241684431983295\n",
      "Epoch: 190---------------Loss: 0.008931417997662885----------------Test loss: 0.0050241684431983295\n",
      "Epoch: 200---------------Loss: 0.008931417997662885----------------Test loss: 0.0050241684431983295\n",
      "Epoch: 210---------------Loss: 0.008931417997662885----------------Test loss: 0.0050241684431983295\n",
      "Epoch: 220---------------Loss: 0.008931417997662885----------------Test loss: 0.0050241684431983295\n",
      "Epoch: 230---------------Loss: 0.008931417997662885----------------Test loss: 0.0050241684431983295\n",
      "Epoch: 240---------------Loss: 0.008931417997662885----------------Test loss: 0.0050241684431983295\n",
      "Epoch: 250---------------Loss: 0.008931417997662885----------------Test loss: 0.0050241684431983295\n",
      "Epoch: 260---------------Loss: 0.008931417997662885----------------Test loss: 0.0050241684431983295\n",
      "Epoch: 270---------------Loss: 0.008931417997662885----------------Test loss: 0.0050241684431983295\n",
      "Epoch: 280---------------Loss: 0.008931417997662885----------------Test loss: 0.0050241684431983295\n",
      "Epoch: 290---------------Loss: 0.008931417997662885----------------Test loss: 0.0050241684431983295\n",
      "Epoch: 300---------------Loss: 0.008931417997662885----------------Test loss: 0.0050241684431983295\n",
      "Epoch: 310---------------Loss: 0.008931417997662885----------------Test loss: 0.0050241684431983295\n",
      "Epoch: 320---------------Loss: 0.008931417997662885----------------Test loss: 0.0050241684431983295\n",
      "Epoch: 330---------------Loss: 0.008931417997662885----------------Test loss: 0.0050241684431983295\n",
      "Epoch: 340---------------Loss: 0.008931417997662885----------------Test loss: 0.0050241684431983295\n",
      "Epoch: 350---------------Loss: 0.008931417997662885----------------Test loss: 0.0050241684431983295\n",
      "Epoch: 360---------------Loss: 0.008931417997662885----------------Test loss: 0.0050241684431983295\n",
      "Epoch: 370---------------Loss: 0.008931417997662885----------------Test loss: 0.0050241684431983295\n",
      "Epoch: 380---------------Loss: 0.008931417997662885----------------Test loss: 0.0050241684431983295\n",
      "Epoch: 390---------------Loss: 0.008931417997662885----------------Test loss: 0.0050241684431983295\n",
      "Epoch: 400---------------Loss: 0.008931417997662885----------------Test loss: 0.0050241684431983295\n",
      "Epoch: 410---------------Loss: 0.008931417997662885----------------Test loss: 0.0050241684431983295\n",
      "Epoch: 420---------------Loss: 0.008931417997662885----------------Test loss: 0.0050241684431983295\n",
      "Epoch: 430---------------Loss: 0.008931417997662885----------------Test loss: 0.0050241684431983295\n",
      "Epoch: 440---------------Loss: 0.008931417997662885----------------Test loss: 0.0050241684431983295\n",
      "Epoch: 450---------------Loss: 0.008931417997662885----------------Test loss: 0.0050241684431983295\n",
      "Epoch: 460---------------Loss: 0.008931417997662885----------------Test loss: 0.0050241684431983295\n",
      "Epoch: 470---------------Loss: 0.008931417997662885----------------Test loss: 0.0050241684431983295\n",
      "Epoch: 480---------------Loss: 0.008931417997662885----------------Test loss: 0.0050241684431983295\n",
      "Epoch: 490---------------Loss: 0.008931417997662885----------------Test loss: 0.0050241684431983295\n",
      "Epoch: 500---------------Loss: 0.008931417997662885----------------Test loss: 0.0050241684431983295\n",
      "Epoch: 510---------------Loss: 0.008931417997662885----------------Test loss: 0.0050241684431983295\n",
      "Epoch: 520---------------Loss: 0.008931417997662885----------------Test loss: 0.0050241684431983295\n",
      "Epoch: 530---------------Loss: 0.008931417997662885----------------Test loss: 0.0050241684431983295\n",
      "Epoch: 540---------------Loss: 0.008931417997662885----------------Test loss: 0.0050241684431983295\n",
      "Epoch: 550---------------Loss: 0.008931417997662885----------------Test loss: 0.0050241684431983295\n",
      "Epoch: 560---------------Loss: 0.008931417997662885----------------Test loss: 0.0050241684431983295\n",
      "Epoch: 570---------------Loss: 0.008931417997662885----------------Test loss: 0.0050241684431983295\n",
      "Epoch: 580---------------Loss: 0.008931417997662885----------------Test loss: 0.0050241684431983295\n",
      "Epoch: 590---------------Loss: 0.008931417997662885----------------Test loss: 0.0050241684431983295\n",
      "Epoch: 600---------------Loss: 0.008931417997662885----------------Test loss: 0.0050241684431983295\n",
      "Epoch: 610---------------Loss: 0.008931417997662885----------------Test loss: 0.0050241684431983295\n",
      "Epoch: 620---------------Loss: 0.008931417997662885----------------Test loss: 0.0050241684431983295\n",
      "Epoch: 630---------------Loss: 0.008931417997662885----------------Test loss: 0.0050241684431983295\n",
      "Epoch: 640---------------Loss: 0.008931417997662885----------------Test loss: 0.0050241684431983295\n",
      "Epoch: 650---------------Loss: 0.008931417997662885----------------Test loss: 0.0050241684431983295\n",
      "Epoch: 660---------------Loss: 0.008931417997662885----------------Test loss: 0.0050241684431983295\n",
      "Epoch: 670---------------Loss: 0.008931417997662885----------------Test loss: 0.0050241684431983295\n",
      "Epoch: 680---------------Loss: 0.008931417997662885----------------Test loss: 0.0050241684431983295\n",
      "Epoch: 690---------------Loss: 0.008931417997662885----------------Test loss: 0.0050241684431983295\n",
      "Epoch: 700---------------Loss: 0.008931417997662885----------------Test loss: 0.0050241684431983295\n",
      "Epoch: 710---------------Loss: 0.008931417997662885----------------Test loss: 0.0050241684431983295\n",
      "Epoch: 720---------------Loss: 0.008931417997662885----------------Test loss: 0.0050241684431983295\n",
      "Epoch: 730---------------Loss: 0.008931417997662885----------------Test loss: 0.0050241684431983295\n",
      "Epoch: 740---------------Loss: 0.008931417997662885----------------Test loss: 0.0050241684431983295\n",
      "Epoch: 750---------------Loss: 0.008931417997662885----------------Test loss: 0.0050241684431983295\n",
      "Epoch: 760---------------Loss: 0.008931417997662885----------------Test loss: 0.0050241684431983295\n",
      "Epoch: 770---------------Loss: 0.008931417997662885----------------Test loss: 0.0050241684431983295\n",
      "Epoch: 780---------------Loss: 0.008931417997662885----------------Test loss: 0.0050241684431983295\n",
      "Epoch: 790---------------Loss: 0.008931417997662885----------------Test loss: 0.0050241684431983295\n",
      "Epoch: 800---------------Loss: 0.008931417997662885----------------Test loss: 0.0050241684431983295\n",
      "Epoch: 810---------------Loss: 0.008931417997662885----------------Test loss: 0.0050241684431983295\n",
      "Epoch: 820---------------Loss: 0.008931417997662885----------------Test loss: 0.0050241684431983295\n",
      "Epoch: 830---------------Loss: 0.008931417997662885----------------Test loss: 0.0050241684431983295\n",
      "Epoch: 840---------------Loss: 0.008931417997662885----------------Test loss: 0.0050241684431983295\n",
      "Epoch: 850---------------Loss: 0.008931417997662885----------------Test loss: 0.0050241684431983295\n",
      "Epoch: 860---------------Loss: 0.008931417997662885----------------Test loss: 0.0050241684431983295\n",
      "Epoch: 870---------------Loss: 0.008931417997662885----------------Test loss: 0.0050241684431983295\n",
      "Epoch: 880---------------Loss: 0.008931417997662885----------------Test loss: 0.0050241684431983295\n",
      "Epoch: 890---------------Loss: 0.008931417997662885----------------Test loss: 0.0050241684431983295\n",
      "Epoch: 900---------------Loss: 0.008931417997662885----------------Test loss: 0.0050241684431983295\n",
      "Epoch: 910---------------Loss: 0.008931417997662885----------------Test loss: 0.0050241684431983295\n",
      "Epoch: 920---------------Loss: 0.008931417997662885----------------Test loss: 0.0050241684431983295\n",
      "Epoch: 930---------------Loss: 0.008931417997662885----------------Test loss: 0.0050241684431983295\n",
      "Epoch: 940---------------Loss: 0.008931417997662885----------------Test loss: 0.0050241684431983295\n",
      "Epoch: 950---------------Loss: 0.008931417997662885----------------Test loss: 0.0050241684431983295\n",
      "Epoch: 960---------------Loss: 0.008931417997662885----------------Test loss: 0.0050241684431983295\n",
      "Epoch: 970---------------Loss: 0.008931417997662885----------------Test loss: 0.0050241684431983295\n",
      "Epoch: 980---------------Loss: 0.008931417997662885----------------Test loss: 0.0050241684431983295\n",
      "Epoch: 990---------------Loss: 0.008931417997662885----------------Test loss: 0.0050241684431983295\n"
     ]
    }
   ],
   "source": [
    "torch.manual_seed(42)\n",
    "\n",
    "# An epoch is one loop through the data\n",
    "epochs = 1000\n",
    "\n",
    "# Loop through the data\n",
    "for epoch in range(epochs):\n",
    "    # Set the model to traning mode\n",
    "    model_0.train() # train mode in PyTorch sets all parameters that requires gradients\n",
    "    \n",
    "    # Forward pass\n",
    "    y_pred = model_0(X_train)\n",
    "    \n",
    "    # Calculate the loss\n",
    "    loss = loss_fn(y_train, y_pred)\n",
    "    \n",
    "    # Optimizer zero grad\n",
    "    optimizer.zero_grad()\n",
    "    \n",
    "    # Perform backpropagation\n",
    "    loss.backward()\n",
    "    \n",
    "    # Step the optimizer\n",
    "    optimizer.step()\n",
    "    \n",
    "    model_0.eval() # turn off gradient tracking\n",
    "    \n",
    "    if epoch % 10 == 0:\n",
    "        with torch.inference_mode():\n",
    "            y_test_pred = model_0(X_test)\n",
    "            test_loss = loss_fn(y_test, y_test_pred)\n",
    "            print(\"Epoch: {}---------------Loss: {}----------------Test loss: {}\".format(epoch,loss ,test_loss))"
   ]
  },
  {
   "cell_type": "code",
   "execution_count": 19,
   "metadata": {},
   "outputs": [
    {
     "data": {
      "text/plain": [
       "[Parameter containing:\n",
       " tensor([0.6990], requires_grad=True),\n",
       " Parameter containing:\n",
       " tensor([0.3093], dtype=torch.float64, requires_grad=True)]"
      ]
     },
     "execution_count": 19,
     "metadata": {},
     "output_type": "execute_result"
    }
   ],
   "source": [
    "list(model_0.parameters())"
   ]
  },
  {
   "cell_type": "code",
   "execution_count": 20,
   "metadata": {},
   "outputs": [
    {
     "data": {
      "text/plain": [
       "(tensor([[0.8600],\n",
       "         [0.8740],\n",
       "         [0.8880],\n",
       "         [0.9020],\n",
       "         [0.9160],\n",
       "         [0.9300],\n",
       "         [0.9440],\n",
       "         [0.9580],\n",
       "         [0.9720],\n",
       "         [0.9860]]),\n",
       " tensor([[0.8685],\n",
       "         [0.8825],\n",
       "         [0.8965],\n",
       "         [0.9105],\n",
       "         [0.9245],\n",
       "         [0.9384],\n",
       "         [0.9524],\n",
       "         [0.9664],\n",
       "         [0.9804],\n",
       "         [0.9944]], dtype=torch.float64))"
      ]
     },
     "execution_count": 20,
     "metadata": {},
     "output_type": "execute_result"
    }
   ],
   "source": [
    "with torch.inference_mode():\n",
    "    y_preds = model_0(X_test)\n",
    "    \n",
    "y_test, y_preds"
   ]
  },
  {
   "cell_type": "code",
   "execution_count": 21,
   "metadata": {},
   "outputs": [
    {
     "data": {
      "image/png": "[encoded data removed]",
      "text/plain": [
       "<Figure size 1000x700 with 1 Axes>"
      ]
     },
     "metadata": {},
     "output_type": "display_data"
    }
   ],
   "source": [
    "plot_predictions(predictions= y_preds)"
   ]
  },
  {
   "cell_type": "markdown",
   "metadata": {},
   "source": [
    "## Saving a model in PyTorch\n",
    "\n",
    "There are three main methods:\n",
    "\n",
    "1. `torch.save` - allows you save a PyTorch object in Python's pickle format\n",
    "2. `torch.load` - allows you load a saved PyTorch object\n",
    "3. `torch.nn.Module.load_state_dict` - this allows to load a model's saved state dictionary"
   ]
  },
  {
   "cell_type": "code",
   "execution_count": 22,
   "metadata": {},
   "outputs": [
    {
     "data": {
      "text/plain": [
       "OrderedDict([('weight', tensor([0.6990])),\n",
       "             ('bias', tensor([0.3093], dtype=torch.float64))])"
      ]
     },
     "execution_count": 22,
     "metadata": {},
     "output_type": "execute_result"
    }
   ],
   "source": [
    "model_0.state_dict()"
   ]
  },
  {
   "cell_type": "code",
   "execution_count": 23,
   "metadata": {},
   "outputs": [],
   "source": [
    "# Saving our PyTorch model\n",
    "from pathlib import Path\n",
    "\n",
    "# Create model directory\n",
    "MODEL_PATH = Path(\"models\")\n",
    "MODEL_PATH.mkdir(parents= True, exist_ok= True)\n",
    "\n",
    "# Create model save path\n",
    "MODEL_NAME = \"00_pytorch_workflow_model_0.pth\"\n",
    "\n",
    "MODEL_SAVE_PATH = MODEL_PATH / MODEL_NAME\n",
    "\n",
    "# Save the model state dict\n",
    "torch.save(obj= model_0.state_dict(),\n",
    "           f= MODEL_SAVE_PATH)"
   ]
  },
  {
   "cell_type": "markdown",
   "metadata": {},
   "source": [
    "## Loading a PyTorch model"
   ]
  },
  {
   "cell_type": "code",
   "execution_count": 24,
   "metadata": {},
   "outputs": [
    {
     "data": {
      "text/plain": [
       "<All keys matched successfully>"
      ]
     },
     "execution_count": 24,
     "metadata": {},
     "output_type": "execute_result"
    }
   ],
   "source": [
    "# Instantiation a new instance of our model class\n",
    "loaded_model_0 = LinearRegressionModel()\n",
    "\n",
    "# Load the model state dict of model_0\n",
    "loaded_model_0.load_state_dict(torch.load(f= MODEL_SAVE_PATH))"
   ]
  },
  {
   "cell_type": "code",
   "execution_count": 25,
   "metadata": {},
   "outputs": [
    {
     "data": {
      "text/plain": [
       "OrderedDict([('weight', tensor([0.6990])),\n",
       "             ('bias', tensor([0.3093], dtype=torch.float64))])"
      ]
     },
     "execution_count": 25,
     "metadata": {},
     "output_type": "execute_result"
    }
   ],
   "source": [
    "loaded_model_0.state_dict()"
   ]
  },
  {
   "cell_type": "code",
   "execution_count": 26,
   "metadata": {},
   "outputs": [
    {
     "data": {
      "text/plain": [
       "tensor([[0.8685],\n",
       "        [0.8825],\n",
       "        [0.8965],\n",
       "        [0.9105],\n",
       "        [0.9245],\n",
       "        [0.9384],\n",
       "        [0.9524],\n",
       "        [0.9664],\n",
       "        [0.9804],\n",
       "        [0.9944]], dtype=torch.float64)"
      ]
     },
     "execution_count": 26,
     "metadata": {},
     "output_type": "execute_result"
    }
   ],
   "source": [
    "# Make some predictions\n",
    "loaded_model_0.eval()\n",
    "with torch.inference_mode():\n",
    "    loaded_model_preds = loaded_model_0(X_test)\n",
    "\n",
    "loaded_model_preds"
   ]
  },
  {
   "cell_type": "code",
   "execution_count": 27,
   "metadata": {},
   "outputs": [
    {
     "data": {
      "text/plain": [
       "tensor([[True],\n",
       "        [True],\n",
       "        [True],\n",
       "        [True],\n",
       "        [True],\n",
       "        [True],\n",
       "        [True],\n",
       "        [True],\n",
       "        [True],\n",
       "        [True]])"
      ]
     },
     "execution_count": 27,
     "metadata": {},
     "output_type": "execute_result"
    }
   ],
   "source": [
    "loaded_model_preds == y_preds"
   ]
  },
  {
   "cell_type": "code",
   "execution_count": null,
   "metadata": {},
   "outputs": [],
   "source": []
  }
 ],
 "metadata": {
  "kernelspec": {
   "display_name": "Python 3",
   "language": "python",
   "name": "python3"
  },
  "language_info": {
   "codemirror_mode": {
    "name": "ipython",
    "version": 3
   },
   "file_extension": ".py",
   "mimetype": "text/x-python",
   "name": "python",
   "nbconvert_exporter": "python",
   "pygments_lexer": "ipython3",
   "version": "3.10.9"
  }
 },
 "nbformat": 4,
 "nbformat_minor": 2
}
